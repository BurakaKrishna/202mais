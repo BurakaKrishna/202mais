{
 "cells": [
  {
   "cell_type": "code",
   "execution_count": 1,
   "metadata": {
    "colab": {
     "base_uri": "https://localhost:8080/",
     "height": 234
    },
    "colab_type": "code",
    "id": "pkZ6RqMnC236",
    "outputId": "11013961-11a3-43ba-ba4c-db55258882f9"
   },
   "outputs": [
    {
     "name": "stdout",
     "output_type": "stream",
     "text": [
      "--2019-10-13 22:15:51--  https://www.ncbi.nlm.nih.gov/geo/download/?acc=GSE111933&format=file&file=GSE111933%5FMatrix%5FAvg%5FBeta%2Etxt%2Egz\n",
      "Loaded CA certificate '/etc/ssl/certs/ca-certificates.crt'\n",
      "Resolving www.ncbi.nlm.nih.gov (www.ncbi.nlm.nih.gov)... 130.14.29.110, 2607:f220:41e:4290::110\n",
      "Connecting to www.ncbi.nlm.nih.gov (www.ncbi.nlm.nih.gov)|130.14.29.110|:443... connected.\n",
      "HTTP request sent, awaiting response... 200 OK\n",
      "Length: 193809465 (185M) [application/octet-stream]\n",
      "Saving to: ‘./GSE111933_Matrix_Avg_Beta.txt.gz’\n",
      "\n",
      "./GSE111933_Matrix_ 100%[===================>] 184.83M  5.19MB/s    in 26s     \n",
      "\n",
      "2019-10-13 22:16:18 (6.98 MB/s) - ‘./GSE111933_Matrix_Avg_Beta.txt.gz’ saved [193809465/193809465]\n",
      "\n"
     ]
    }
   ],
   "source": [
    "!wget -O \"./GSE111933_Matrix_Avg_Beta.txt.gz\" \"https://www.ncbi.nlm.nih.gov/geo/download/?acc=GSE111933&format=file&file=GSE111933%5FMatrix%5FAvg%5FBeta%2Etxt%2Egz\"\n"
   ]
  },
  {
   "cell_type": "code",
   "execution_count": 2,
   "metadata": {
    "colab": {},
    "colab_type": "code",
    "id": "sMbR6drMG5n7",
    "scrolled": true
   },
   "outputs": [
    {
     "name": "stdout",
     "output_type": "stream",
     "text": [
      "gzip: ./GSE111933_Matrix_Avg_Beta.txt already exists; do you wish to overwrite (y or n)? ^C\n"
     ]
    }
   ],
   "source": [
    "!gzip -d \"./GSE111933_Matrix_Avg_Beta.txt.gz\""
   ]
  },
  {
   "cell_type": "code",
   "execution_count": 5,
   "metadata": {
    "colab": {},
    "colab_type": "code",
    "id": "AKe5XtDTCyRG"
   },
   "outputs": [],
   "source": [
    "import pandas as pd\n",
    "import numpy as np\n",
    "import random as rd\n",
    "from sklearn.decomposition import PCA\n",
    "from sklearn import preprocessing\n",
    "import matplotlib.pyplot as plt # NOTE: This was tested with matplotlib v. 2.1.0\n"
   ]
  },
  {
   "cell_type": "code",
   "execution_count": 6,
   "metadata": {
    "colab": {
     "base_uri": "https://localhost:8080/",
     "height": 196
    },
    "colab_type": "code",
    "id": "MPEsDCnJGSmx",
    "outputId": "fb6f8d42-0502-4c8b-d5d5-64dd6ec0854a"
   },
   "outputs": [
    {
     "name": "stdout",
     "output_type": "stream",
     "text": [
      "               U909N     U912N     U913N     U915N     U916N     U917N  \\\n",
      "ID_REF                                                                   \n",
      "cg00000029  0.275748  0.285988  0.504508  0.348245  0.416986  0.436067   \n",
      "cg00000108  0.921596  0.939222  0.928610  0.919069  0.937614  0.953862   \n",
      "cg00000109  0.799066  0.857993  0.832321  0.819187  0.860120  0.864267   \n",
      "cg00000165  0.157332  0.211416  0.144390  0.168022  0.174621  0.169145   \n",
      "cg00000236  0.752568  0.816236  0.847976  0.814823  0.842974  0.855966   \n",
      "\n",
      "               U918N     U920N    U921N1     U922N  ...     U087T     U088T  \\\n",
      "ID_REF                                              ...                       \n",
      "cg00000029  0.280108  0.463898  0.418172  0.479355  ...  0.138168  0.127061   \n",
      "cg00000108  0.904358  0.923383  0.934689  0.926050  ...  0.916238  0.906655   \n",
      "cg00000109  0.877577  0.795923  0.841781  0.858538  ...  0.897681  0.899598   \n",
      "cg00000165  0.158379  0.195774  0.186340  0.187780  ...  0.657997  0.680868   \n",
      "cg00000236  0.849702  0.837139  0.806540  0.845623  ...  0.885098  0.848118   \n",
      "\n",
      "               U095T     U099T     U109T     U114T     U115T     U118T  \\\n",
      "ID_REF                                                                   \n",
      "cg00000029  0.123644  0.248730  0.255782  0.395199  0.069523  0.075581   \n",
      "cg00000108  0.898469  0.918323  0.907258  0.919544  0.907180  0.912919   \n",
      "cg00000109  0.854324  0.821204  0.813210  0.825700  0.896420  0.842779   \n",
      "cg00000165  0.526016  0.682583  0.405903  0.413690  0.552608  0.877090   \n",
      "cg00000236  0.826184  0.839746  0.809198  0.849600  0.851181  0.873626   \n",
      "\n",
      "               U134T     U143T  \n",
      "ID_REF                          \n",
      "cg00000029  0.098216  0.239315  \n",
      "cg00000108  0.914881  0.914145  \n",
      "cg00000109  0.893016  0.813091  \n",
      "cg00000165  0.078582  0.219039  \n",
      "cg00000236  0.854500  0.764874  \n",
      "\n",
      "[5 rows x 92 columns]\n",
      "(485577, 92)\n"
     ]
    }
   ],
   "source": [
    "data = pd.read_csv(\"./GSE111933_Matrix_Avg_Beta.txt\", sep='\\t', low_memory=False)\n",
    "data.set_index(\"ID_REF\", inplace = True) \n",
    "data = data[data.columns[::2]]\n",
    "\n",
    "data = data.replace(r'^\\s*$', 0, regex=True) # might be a bad idea to set to 0\n",
    "\n",
    "data[data.columns] = data[data.columns].astype(float)\n",
    "\n",
    "\n",
    " \n",
    "print(data.head())\n",
    "print(data.shape)\n"
   ]
  },
  {
   "cell_type": "code",
   "execution_count": null,
   "metadata": {
    "colab": {
     "base_uri": "https://localhost:8080/",
     "height": 178
    },
    "colab_type": "code",
    "id": "FBuiPO3oH_Fq",
    "outputId": "e16ca6e3-18a5-417c-a707-9301e081479e"
   },
   "outputs": [],
   "source": [
    "print(data.head())\n"
   ]
  },
  {
   "cell_type": "code",
   "execution_count": 7,
   "metadata": {
    "colab": {},
    "colab_type": "code",
    "id": "OCsAZK01JL2J"
   },
   "outputs": [],
   "source": [
    "\n",
    "# First center and scale the data\n",
    "scaled_data = preprocessing.scale(data.T)\n",
    "#  \n",
    "\n"
   ]
  },
  {
   "cell_type": "code",
   "execution_count": 8,
   "metadata": {
    "colab": {},
    "colab_type": "code",
    "id": "5dX3JKzHJwiU"
   },
   "outputs": [],
   "source": [
    "pca = PCA() # create a PCA object\n",
    "pca.fit(scaled_data) # do the math\n",
    "pca_data = pca.transform(scaled_data) # get PCA coordinates for scaled_data\n"
   ]
  },
  {
   "cell_type": "code",
   "execution_count": 9,
   "metadata": {
    "colab": {
     "base_uri": "https://localhost:8080/",
     "height": 295
    },
    "colab_type": "code",
    "id": "UYx2wNiTNJWQ",
    "outputId": "aa130f36-dc83-48ef-91c5-9c4afd3194c3"
   },
   "outputs": [
    {
     "data": {
      "image/png": "[encoded data removed]",
      "text/plain": [
       "<Figure size 432x288 with 1 Axes>"
      ]
     },
     "metadata": {
      "needs_background": "light"
     },
     "output_type": "display_data"
    }
   ],
   "source": [
    "per_var = np.round(pca.explained_variance_ratio_* 100, decimals=1)\n",
    "labels = ['PC' + str(x) for x in range(1, len(per_var)+1)]\n",
    "#  \n",
    "plt.bar(x=range(1,len(per_var)+1), height=per_var, tick_label=labels)\n",
    "plt.ylabel('Percentage of Explained Variance')\n",
    "plt.xlabel('Principal Component')\n",
    "plt.title('Scree Plot')\n",
    "plt.show()\n"
   ]
  },
  {
   "cell_type": "code",
   "execution_count": 10,
   "metadata": {
    "colab": {
     "base_uri": "https://localhost:8080/",
     "height": 295
    },
    "colab_type": "code",
    "id": "aBjdmOBgNPOv",
    "outputId": "5b639355-01eb-4480-a336-91428b36105d"
   },
   "outputs": [
    {
     "data": {
      "image/png": "[encoded data removed]",
      "text/plain": [
       "<Figure size 432x288 with 1 Axes>"
      ]
     },
     "metadata": {
      "needs_background": "light"
     },
     "output_type": "display_data"
    }
   ],
   "source": [
    "pca_df = pd.DataFrame(pca_data, index=[data.columns], columns=labels)\n",
    " \n",
    "plt.scatter(pca_df.PC1, pca_df.PC2)\n",
    "plt.title('My PCA Graph')\n",
    "plt.xlabel('PC1 - {0}%'.format(per_var[0]))\n",
    "plt.ylabel('PC2 - {0}%'.format(per_var[1]))\n",
    " \n",
    "# for sample in pca_df.index:\n",
    "#     plt.annotate(sample, (pca_df.PC1.loc[sample], pca_df.PC2.loc[sample]))\n",
    " \n",
    "plt.show()\n"
   ]
  },
  {
   "cell_type": "code",
   "execution_count": 69,
   "metadata": {},
   "outputs": [
    {
     "name": "stdout",
     "output_type": "stream",
     "text": [
      "[0.6   0.85  0.175 0.45  0.375 0.9   0.425 0.7   0.95  0.475 0.4   0.175\n",
      " 0.825 0.4   0.725 0.925 0.825 0.6   0.85  0.725 0.325 0.35  0.3   0.3\n",
      " 0.45  0.75  0.575 0.525 1.    0.75  0.    0.675 0.575 0.55  0.7   0.1\n",
      " 0.825 0.475 0.7   0.975 0.7   0.375 0.35  0.65  0.175 0.7   0.6   0.85\n",
      " 0.175 0.45  0.375 0.9   0.425 0.7   0.95  0.475 0.4   0.175 0.825 0.4\n",
      " 0.725 0.925 0.825 0.6   0.85  0.725 0.325 0.35  0.3   0.3   0.45  0.75\n",
      " 0.575 0.525 1.    0.75  0.    0.675 0.575 0.55  0.7   0.1   0.825 0.475\n",
      " 0.7   0.975 0.7   0.375 0.35  0.65  0.175 0.7  ]\n"
     ]
    }
   ],
   "source": [
    "def colors(headers):\n",
    "    r = []\n",
    "    for head in headers:\n",
    "        if \"N\" in head:\n",
    "            r.append('r')\n",
    "        else:\n",
    "            r.append('b')\n",
    "    return r\n",
    "\n",
    "def colors_from_age(ages):\n",
    "    colors = ages - ages.min()\n",
    "    colors *= (1/colors.max())\n",
    "    return colors.to_numpy()\n",
    "            \n",
    "cols = colors_from_age(annotations[\"age\"])\n",
    "print(cols)"
   ]
  },
  {
   "cell_type": "code",
   "execution_count": 70,
   "metadata": {},
   "outputs": [
    {
     "data": {
      "image/png": "[encoded data removed]",
      "text/plain": [
       "<Figure size 432x288 with 1 Axes>"
      ]
     },
     "metadata": {
      "needs_background": "light"
     },
     "output_type": "display_data"
    }
   ],
   "source": [
    "pca_df = pd.DataFrame(pca_data, index=[data.columns], columns=labels)\n",
    " \n",
    "plt.scatter(pca_df.PC1, pca_df.PC2, c=cols)\n",
    "plt.title('My PCA Graph')\n",
    "plt.xlabel('PC1 - {0}%'.format(per_var[0]))\n",
    "plt.ylabel('PC2 - {0}%'.format(per_var[1]))\n",
    " \n",
    "# for sample in pca_df.index:\n",
    "#     plt.annotate(sample, (pca_df.PC1.loc[sample], pca_df.PC2.loc[sample]))\n",
    " \n",
    "plt.show()"
   ]
  },
  {
   "cell_type": "code",
   "execution_count": 20,
   "metadata": {},
   "outputs": [
    {
     "data": {
      "text/plain": [
       "SVC(C=10000000000.0, cache_size=200, class_weight=None, coef0=0.0,\n",
       "    decision_function_shape='ovr', degree=3, gamma='auto_deprecated',\n",
       "    kernel='linear', max_iter=-1, probability=False, random_state=None,\n",
       "    shrinking=True, tol=0.001, verbose=False)"
      ]
     },
     "execution_count": 20,
     "metadata": {},
     "output_type": "execute_result"
    }
   ],
   "source": [
    "from sklearn.svm import SVC\n",
    "model = SVC(kernel='linear', C=1E10)\n",
    "model.fit(np.array([pca_df.PC1, pca_df.PC2]).T, cols)\n"
   ]
  },
  {
   "cell_type": "code",
   "execution_count": 21,
   "metadata": {},
   "outputs": [],
   "source": [
    "def plot_svc_decision_function(model, ax=None, plot_support=True):\n",
    "    \"\"\"Plot the decision function for a 2D SVC\"\"\"\n",
    "    if ax is None:\n",
    "        ax = plt.gca()\n",
    "    xlim = ax.get_xlim()\n",
    "    ylim = ax.get_ylim()\n",
    "    \n",
    "    # create grid to evaluate model\n",
    "    x = np.linspace(xlim[0], xlim[1], 30)\n",
    "    y = np.linspace(ylim[0], ylim[1], 30)\n",
    "    Y, X = np.meshgrid(y, x)\n",
    "    xy = np.vstack([X.ravel(), Y.ravel()]).T\n",
    "    P = model.decision_function(xy).reshape(X.shape)\n",
    "    \n",
    "    # plot decision boundary and margins\n",
    "    ax.contour(X, Y, P, colors='k',\n",
    "               levels=[-1, 0, 1], alpha=0.5,\n",
    "               linestyles=['--', '-', '--'])\n",
    "    \n",
    "    # plot support vectors\n",
    "    if plot_support:\n",
    "        ax.scatter(model.support_vectors_[:, 0],\n",
    "                   model.support_vectors_[:, 1],\n",
    "                   s=300, linewidth=1, facecolors='none');\n",
    "    ax.set_xlim(xlim)\n",
    "    ax.set_ylim(ylim)\n"
   ]
  },
  {
   "cell_type": "code",
   "execution_count": 22,
   "metadata": {},
   "outputs": [
    {
     "data": {
      "image/png": "[encoded data removed]",
      "text/plain": [
       "<Figure size 432x288 with 1 Axes>"
      ]
     },
     "metadata": {
      "needs_background": "light"
     },
     "output_type": "display_data"
    }
   ],
   "source": [
    "plt.scatter(pca_df.PC1, pca_df.PC2, c=cols, s=50, cmap='autumn')\n",
    "plot_svc_decision_function(model);"
   ]
  },
  {
   "cell_type": "code",
   "execution_count": 37,
   "metadata": {},
   "outputs": [],
   "source": [
    "annotations = pd.read_csv(\"series.csv\")\n",
    "annotations.set_index(\"Sample_title\", inplace=True)\n",
    "annotations = annotations.T\n",
    "for i, age in enumerate(annotations[\"age\"]):\n",
    "    annotations[\"age\"][i] = age[4:]\n",
    "\n"
   ]
  },
  {
   "cell_type": "code",
   "execution_count": 53,
   "metadata": {},
   "outputs": [],
   "source": [
    "annotations[\"age\"] = annotations[\"age\"].astype(float)"
   ]
  },
  {
   "cell_type": "code",
   "execution_count": 54,
   "metadata": {},
   "outputs": [
    {
     "name": "stdout",
     "output_type": "stream",
     "text": [
      "genomic DNA_N_909    69.0\n",
      "genomic DNA_N_912    79.0\n",
      "genomic DNA_N_913    52.0\n",
      "genomic DNA_N_915    63.0\n",
      "genomic DNA_N_916    60.0\n",
      "Name: age, dtype: float64\n"
     ]
    }
   ],
   "source": [
    "print(annotations[\"age\"].head())"
   ]
  },
  {
   "cell_type": "code",
   "execution_count": 72,
   "metadata": {},
   "outputs": [
    {
     "name": "stdout",
     "output_type": "stream",
     "text": [
      "               U909N     U912N     U913N     U915N     U916N     U917N  \\\n",
      "ID_REF                                                                   \n",
      "cg00000029  0.275748  0.285988  0.504508  0.348245  0.416986  0.436067   \n",
      "cg00000108  0.921596  0.939222  0.928610  0.919069  0.937614  0.953862   \n",
      "cg00000109  0.799066  0.857993  0.832321  0.819187  0.860120  0.864267   \n",
      "cg00000165  0.157332  0.211416  0.144390  0.168022  0.174621  0.169145   \n",
      "cg00000236  0.752568  0.816236  0.847976  0.814823  0.842974  0.855966   \n",
      "\n",
      "               U918N     U920N    U921N1     U922N  ...     U087T     U088T  \\\n",
      "ID_REF                                              ...                       \n",
      "cg00000029  0.280108  0.463898  0.418172  0.479355  ...  0.138168  0.127061   \n",
      "cg00000108  0.904358  0.923383  0.934689  0.926050  ...  0.916238  0.906655   \n",
      "cg00000109  0.877577  0.795923  0.841781  0.858538  ...  0.897681  0.899598   \n",
      "cg00000165  0.158379  0.195774  0.186340  0.187780  ...  0.657997  0.680868   \n",
      "cg00000236  0.849702  0.837139  0.806540  0.845623  ...  0.885098  0.848118   \n",
      "\n",
      "               U095T     U099T     U109T     U114T     U115T     U118T  \\\n",
      "ID_REF                                                                   \n",
      "cg00000029  0.123644  0.248730  0.255782  0.395199  0.069523  0.075581   \n",
      "cg00000108  0.898469  0.918323  0.907258  0.919544  0.907180  0.912919   \n",
      "cg00000109  0.854324  0.821204  0.813210  0.825700  0.896420  0.842779   \n",
      "cg00000165  0.526016  0.682583  0.405903  0.413690  0.552608  0.877090   \n",
      "cg00000236  0.826184  0.839746  0.809198  0.849600  0.851181  0.873626   \n",
      "\n",
      "               U134T     U143T  \n",
      "ID_REF                          \n",
      "cg00000029  0.098216  0.239315  \n",
      "cg00000108  0.914881  0.914145  \n",
      "cg00000109  0.893016  0.813091  \n",
      "cg00000165  0.078582  0.219039  \n",
      "cg00000236  0.854500  0.764874  \n",
      "\n",
      "[5 rows x 92 columns]\n"
     ]
    }
   ],
   "source": [
    "print(data.head())"
   ]
  },
  {
   "cell_type": "code",
   "execution_count": null,
   "metadata": {},
   "outputs": [],
   "source": []
  }
 ],
 "metadata": {
  "accelerator": "GPU",
  "colab": {
   "machine_shape": "hm",
   "name": "Project.ipynb",
   "provenance": []
  },
  "kernelspec": {
   "display_name": "Python 3",
   "language": "python",
   "name": "python3"
  },
  "language_info": {
   "codemirror_mode": {
    "name": "ipython",
    "version": 3
   },
   "file_extension": ".py",
   "mimetype": "text/x-python",
   "name": "python",
   "nbconvert_exporter": "python",
   "pygments_lexer": "ipython3",
   "version": "3.7.4"
  }
 },
 "nbformat": 4,
 "nbformat_minor": 1
}
