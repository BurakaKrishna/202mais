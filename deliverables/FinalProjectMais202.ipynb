{
  "nbformat": 4,
  "nbformat_minor": 0,
  "metadata": {
    "accelerator": "GPU",
    "colab": {
      "name": "FinalProjectMais202.ipynb",
      "provenance": [],
      "collapsed_sections": [],
      "machine_shape": "hm"
    },
    "kernelspec": {
      "display_name": "Python 3",
      "language": "python",
      "name": "python3"
    },
    "language_info": {
      "codemirror_mode": {
        "name": "ipython",
        "version": 3
      },
      "file_extension": ".py",
      "mimetype": "text/x-python",
      "name": "python",
      "nbconvert_exporter": "python",
      "pygments_lexer": "ipython3",
      "version": "3.7.4"
    }
  },
  "cells": [
    {
      "cell_type": "code",
      "metadata": {
        "colab_type": "code",
        "id": "pkZ6RqMnC236",
        "colab": {}
      },
      "source": [
        "# Get dataset\n",
        "#!wget -O \"./GSE111933_Matrix_Avg_Beta.txt.gz\" \"https://www.ncbi.nlm.nih.gov/geo/download/?acc=GSE111933&format=file&file=GSE111933%5FMatrix%5FAvg%5FBeta%2Etxt%2Egz\"\n"
      ],
      "execution_count": 0,
      "outputs": []
    },
    {
      "cell_type": "code",
      "metadata": {
        "colab_type": "code",
        "id": "sMbR6drMG5n7",
        "scrolled": true,
        "colab": {}
      },
      "source": [
        "# Extract dataset\n",
        "#!gzip -d \"./GSE111933_Matrix_Avg_Beta.txt.gz\""
      ],
      "execution_count": 0,
      "outputs": []
    },
    {
      "cell_type": "code",
      "metadata": {
        "colab_type": "code",
        "id": "AKe5XtDTCyRG",
        "colab": {}
      },
      "source": [
        "# Import necessary libraries\n",
        "import pandas as pd\n",
        "import numpy as np\n",
        "import random as rd\n",
        "from sklearn.decomposition import PCA\n",
        "from sklearn import preprocessing\n",
        "import matplotlib.pyplot as plt # NOTE: This was tested with matplotlib v. 2.1.0\n",
        "from sklearn.model_selection import train_test_split\n",
        "from sklearn import metrics\n"
      ],
      "execution_count": 0,
      "outputs": []
    },
    {
      "cell_type": "code",
      "metadata": {
        "colab_type": "code",
        "id": "MPEsDCnJGSmx",
        "outputId": "e3382d1c-7800-4e68-b607-959a97d29406",
        "colab": {
          "base_uri": "https://localhost:8080/",
          "height": 196
        }
      },
      "source": [
        "# Read data from txt file\n",
        "data = pd.read_csv(\"./GSE111933_Matrix_Avg_Beta.txt\", sep='\\t', low_memory=False)\n",
        "data.set_index(\"ID_REF\", inplace = True) \n",
        "data = data[data.columns[::2]]\n",
        "# Replace blanks cells with 0.5 because that is the average value.\n",
        "data = data.replace(r'^\\s*$', 0.5, regex=True) \n",
        "data[data.columns] = data[data.columns].astype(float)\n",
        "\n",
        "# visualize data\n",
        "print(data.head())\n",
        "print(data.shape)\n"
      ],
      "execution_count": 3,
      "outputs": [
        {
          "output_type": "stream",
          "text": [
            "               U909N     U912N     U913N  ...     U118T     U134T     U143T\n",
            "ID_REF                                    ...                              \n",
            "cg00000029  0.275748  0.285988  0.504508  ...  0.075581  0.098216  0.239315\n",
            "cg00000108  0.921596  0.939222  0.928610  ...  0.912919  0.914881  0.914145\n",
            "cg00000109  0.799066  0.857993  0.832321  ...  0.842779  0.893016  0.813091\n",
            "cg00000165  0.157332  0.211416  0.144390  ...  0.877090  0.078582  0.219039\n",
            "cg00000236  0.752568  0.816236  0.847976  ...  0.873626  0.854500  0.764874\n",
            "\n",
            "[5 rows x 92 columns]\n",
            "(485577, 92)\n"
          ],
          "name": "stdout"
        }
      ]
    },
    {
      "cell_type": "code",
      "metadata": {
        "id": "KW8RL3e2VnUT",
        "colab_type": "code",
        "colab": {}
      },
      "source": [
        "# import annotations (these allow for supervised learning and classify each point as either normal or tumerous)\n",
        "# note, must upload series.csv file to jupyter notebook. series.csv file is in the github\n",
        "\n",
        "# prepare annotations\n",
        "annotations = pd.read_csv(\"series.csv\")\n",
        "annotations.set_index(\"Sample_title\", inplace=True)\n",
        "annotations = annotations.T\n",
        "for i, age in enumerate(annotations[\"age\"]):\n",
        "    annotations[\"age\"][i] = age[4:]\n",
        "annotations[\"age\"] = annotations[\"age\"].astype(float)\n"
      ],
      "execution_count": 0,
      "outputs": []
    },
    {
      "cell_type": "code",
      "metadata": {
        "id": "HmgchszCss5z",
        "colab_type": "code",
        "colab": {}
      },
      "source": [
        "# two methods colors and colors_from_age for initializing the cols variable which represents our target\n",
        "def colors(headers):\n",
        "    r = []\n",
        "    for head in headers:\n",
        "        if \"N\" in head:\n",
        "            r.append('r')\n",
        "        else:\n",
        "            r.append('b')\n",
        "    return r\n",
        "\n",
        "def colors_from_age(ages):\n",
        "    colors = ages - ages.min()\n",
        "    colors *= (1/colors.max())\n",
        "    return colors.to_numpy()\n",
        "            \n",
        "#initialize cols\n",
        "# cols = colors_from_age(annotations[\"age\"])\n",
        "cols = colors(data.columns)\n"
      ],
      "execution_count": 0,
      "outputs": []
    },
    {
      "cell_type": "code",
      "metadata": {
        "id": "V4_83T5FszOJ",
        "colab_type": "code",
        "colab": {}
      },
      "source": [
        "# initialize X_train, X_test, y_train, and y_test\n",
        "X_train, X_test, y_train, y_test = train_test_split(data.T, cols, test_size=0.10, random_state=111)"
      ],
      "execution_count": 0,
      "outputs": []
    },
    {
      "cell_type": "code",
      "metadata": {
        "id": "mJNO8h9toqtC",
        "colab_type": "code",
        "outputId": "0c1eb7dd-7b03-4f78-d496-699d5466f55c",
        "colab": {
          "base_uri": "https://localhost:8080/",
          "height": 53
        }
      },
      "source": [
        "# filter from 485577 features down to 5000 based on significance with respect to classification\n",
        "from sklearn.feature_selection import SelectKBest\n",
        "from sklearn.feature_selection import chi2\n",
        "\n",
        "print(X.shape)\n",
        "selection = SelectKBest(score_func=chi2, k=5000).fit(X_train,y_train)\n",
        "X_train = selection.transform(X_train).T\n",
        "X_test = selection.transform(X_test).T\n",
        "# X_train = SelectKBest(chi2, k=5000).fit_transform(X_train, y_train).T\n",
        "print(X_test.shape)\n"
      ],
      "execution_count": 53,
      "outputs": [
        {
          "output_type": "stream",
          "text": [
            "(92, 485577)\n",
            "(5000, 10)\n"
          ],
          "name": "stdout"
        }
      ]
    },
    {
      "cell_type": "code",
      "metadata": {
        "colab_type": "code",
        "id": "OCsAZK01JL2J",
        "colab": {}
      },
      "source": [
        "\n",
        "# Center and scale the data (normalize the data)\n",
        "scaled_data = preprocessing.scale(X_train.T)\n",
        "scaled_test = preprocessing.scale(X_test.T)"
      ],
      "execution_count": 0,
      "outputs": []
    },
    {
      "cell_type": "code",
      "metadata": {
        "colab_type": "code",
        "id": "5dX3JKzHJwiU",
        "colab": {}
      },
      "source": [
        "pca = PCA() # create a PCA object\n",
        "pca.fit(scaled_data) # do the math\n",
        "pca_data = pca.transform(scaled_data) # get PCA coordinates for scaled_data\n"
      ],
      "execution_count": 0,
      "outputs": []
    },
    {
      "cell_type": "code",
      "metadata": {
        "colab_type": "code",
        "id": "UYx2wNiTNJWQ",
        "outputId": "a2e77960-84de-4b7e-df37-4aa3c10f8c56",
        "colab": {
          "base_uri": "https://localhost:8080/",
          "height": 311
        }
      },
      "source": [
        "# Generate a scree plot on the first 25 pca components\n",
        "per_var = (np.round(pca.explained_variance_ratio_* 100, decimals=1))[0:25]\n",
        "labels = ['PC' + str(x) for x in range(1, len(per_var)+1)]\n",
        "\n",
        "plt.bar(x=range(1,len(per_var)+1), height=per_var, tick_label=labels)\n",
        "plt.ylabel('Percentage of Explained Variance')\n",
        "plt.xlabel('Principal Component')\n",
        "plt.title('Scree Plot')\n",
        "plt.xticks(rotation='vertical')\n",
        "plt.show()\n",
        "\n",
        "per_var = (np.round(pca.explained_variance_ratio_* 100, decimals=1))\n",
        "labels = ['PC' + str(x) for x in range(1, len(per_var)+1)]"
      ],
      "execution_count": 56,
      "outputs": [
        {
          "output_type": "display_data",
          "data": {
            "image/png": "[encoded data removed]",
            "text/plain": [
              "<Figure size 432x288 with 1 Axes>"
            ]
          },
          "metadata": {
            "tags": []
          }
        }
      ]
    },
    {
      "cell_type": "code",
      "metadata": {
        "colab_type": "code",
        "id": "aBjdmOBgNPOv",
        "outputId": "6c942d0e-2d9e-446f-fb4d-912e907135ff",
        "colab": {
          "base_uri": "https://localhost:8080/",
          "height": 295
        }
      },
      "source": [
        "# plot pca in 2d space based on the first 2 principle components\n",
        "\n",
        "# pca_df = pd.DataFrame(pca_data, index=[data.columns], columns=labels)\n",
        "pca_df = pd.DataFrame(pca_data, columns=labels)\n",
        "\n",
        " \n",
        "plt.scatter(pca_df.PC1, pca_df.PC2)\n",
        "plt.title('My PCA Graph')\n",
        "plt.xlabel('PC1 - {0}%'.format(per_var[0]))\n",
        "plt.ylabel('PC2 - {0}%'.format(per_var[1]))\n",
        " \n",
        "# annotations if desired\n",
        "# for sample in pca_df.index:\n",
        "#     plt.annotate(sample, (pca_df.PC1.loc[sample], pca_df.PC2.loc[sample]))\n",
        " \n",
        "plt.show()\n"
      ],
      "execution_count": 57,
      "outputs": [
        {
          "output_type": "display_data",
          "data": {
            "image/png": "[encoded data removed]",
            "text/plain": [
              "<Figure size 432x288 with 1 Axes>"
            ]
          },
          "metadata": {
            "tags": []
          }
        }
      ]
    },
    {
      "cell_type": "code",
      "metadata": {
        "id": "QeA14o_dSBDK",
        "colab_type": "code",
        "outputId": "3597951c-a977-415b-f225-471406437b50",
        "colab": {
          "base_uri": "https://localhost:8080/",
          "height": 295
        }
      },
      "source": [
        "# same thing as above, but this time coloring the points based on classification / target\n",
        "\n",
        "pca_df = pd.DataFrame(pca_data, columns=labels)\n",
        " \n",
        "plt.scatter(pca_df.PC1, pca_df.PC2, c=y_train)\n",
        "plt.title('My PCA Graph')\n",
        "plt.xlabel('PC1 - {0}%'.format(per_var[0]))\n",
        "plt.ylabel('PC2 - {0}%'.format(per_var[1]))\n",
        " \n",
        "# for sample in pca_df.index:\n",
        "#     plt.annotate(sample, (pca_df.PC1.loc[sample], pca_df.PC2.loc[sample]))\n",
        " \n",
        "plt.show()"
      ],
      "execution_count": 58,
      "outputs": [
        {
          "output_type": "display_data",
          "data": {
            "image/png": "[encoded data removed]",
            "text/plain": [
              "<Figure size 432x288 with 1 Axes>"
            ]
          },
          "metadata": {
            "tags": []
          }
        }
      ]
    },
    {
      "cell_type": "code",
      "metadata": {
        "id": "2URjyB8BSBDV",
        "colab_type": "code",
        "outputId": "522ce764-ec93-4a11-8a58-cb76fb7377e8",
        "colab": {
          "base_uri": "https://localhost:8080/",
          "height": 88
        }
      },
      "source": [
        "# fitting the support vector machine\n",
        "from sklearn.svm import SVC\n",
        "model = SVC(kernel='linear', C=1E10)\n",
        "model.fit(np.array([pca_df.PC1, pca_df.PC2]).T, y_train)\n"
      ],
      "execution_count": 59,
      "outputs": [
        {
          "output_type": "execute_result",
          "data": {
            "text/plain": [
              "SVC(C=10000000000.0, cache_size=200, class_weight=None, coef0=0.0,\n",
              "    decision_function_shape='ovr', degree=3, gamma='auto_deprecated',\n",
              "    kernel='linear', max_iter=-1, probability=False, random_state=None,\n",
              "    shrinking=True, tol=0.001, verbose=False)"
            ]
          },
          "metadata": {
            "tags": []
          },
          "execution_count": 59
        }
      ]
    },
    {
      "cell_type": "code",
      "metadata": {
        "id": "sbvZZvIpSBDc",
        "colab_type": "code",
        "colab": {}
      },
      "source": [
        "# function for visualizing support vector machine outcome (https://jakevdp.github.io/PythonDataScienceHandbook/05.07-support-vector-machines.html)\n",
        "def plot_svc_decision_function(model, ax=None, plot_support=True):\n",
        "    \"\"\"Plot the decision function for a 2D SVC\"\"\"\n",
        "    if ax is None:\n",
        "        ax = plt.gca()\n",
        "    xlim = ax.get_xlim()\n",
        "    ylim = ax.get_ylim()\n",
        "    \n",
        "    # create grid to evaluate model\n",
        "    x = np.linspace(xlim[0], xlim[1], 30)\n",
        "    y = np.linspace(ylim[0], ylim[1], 30)\n",
        "    Y, X = np.meshgrid(y, x)\n",
        "    xy = np.vstack([X.ravel(), Y.ravel()]).T\n",
        "    P = model.decision_function(xy).reshape(X.shape)\n",
        "    \n",
        "    # plot decision boundary and margins\n",
        "    ax.contour(X, Y, P, colors='k',\n",
        "               levels=[-1, 0, 1], alpha=0.5,\n",
        "               linestyles=['--', '-', '--'])\n",
        "    \n",
        "    # plot support vectors\n",
        "    if plot_support:\n",
        "        ax.scatter(model.support_vectors_[:, 0],\n",
        "                   model.support_vectors_[:, 1],\n",
        "                   s=300, linewidth=1, facecolors='none');\n",
        "    ax.set_xlim(xlim)\n",
        "    ax.set_ylim(ylim)\n"
      ],
      "execution_count": 0,
      "outputs": []
    },
    {
      "cell_type": "code",
      "metadata": {
        "id": "KA6ULKDpSBDg",
        "colab_type": "code",
        "outputId": "03aadf2d-d4a5-4541-f0bb-93c08b797f61",
        "colab": {
          "base_uri": "https://localhost:8080/",
          "height": 295
        }
      },
      "source": [
        "# Plot points and show graph\n",
        "\n",
        "plt.scatter(pca_df.PC1, pca_df.PC2, c=y_train, s=50, cmap='autumn')\n",
        "plt.title('My PCA Graph')\n",
        "plt.xlabel('PC1 - {0}%'.format(per_var[0]))\n",
        "plt.ylabel('PC2 - {0}%'.format(per_var[1]))\n",
        "plot_svc_decision_function(model);"
      ],
      "execution_count": 61,
      "outputs": [
        {
          "output_type": "display_data",
          "data": {
            "image/png": "[encoded data removed]",
            "text/plain": [
              "<Figure size 432x288 with 1 Axes>"
            ]
          },
          "metadata": {
            "tags": []
          }
        }
      ]
    },
    {
      "cell_type": "code",
      "metadata": {
        "id": "8fFhnulVSBDl",
        "colab_type": "code",
        "outputId": "7a2dba88-efb4-4c53-9826-38fed711b197",
        "colab": {
          "base_uri": "https://localhost:8080/",
          "height": 88
        }
      },
      "source": [
        "# calculate accuracy of classification of test data.\n",
        "print(scaled_test.shape)\n",
        "pca_test = pca.transform(scaled_test).T\n",
        "print(pca_test.shape)\n",
        "pca_test = (pca_test[0:2]).T\n",
        "print(pca_test.shape)\n",
        "\n",
        "predicted = model.predict(pca_test)\n",
        "print(\"Test set classification accuracy: \" + str(metrics.accuracy_score(y_test, predicted)))"
      ],
      "execution_count": 94,
      "outputs": [
        {
          "output_type": "stream",
          "text": [
            "(10, 5000)\n",
            "(82, 10)\n",
            "(10, 2)\n",
            "Test set classification accuracy: 1.0\n"
          ],
          "name": "stdout"
        }
      ]
    },
    {
      "cell_type": "code",
      "metadata": {
        "id": "4-pHCGspSBDq",
        "colab_type": "code",
        "colab": {}
      },
      "source": [
        ""
      ],
      "execution_count": 0,
      "outputs": []
    },
    {
      "cell_type": "code",
      "metadata": {
        "id": "VsTZLp7KSBDt",
        "colab_type": "code",
        "colab": {}
      },
      "source": [
        ""
      ],
      "execution_count": 0,
      "outputs": []
    },
    {
      "cell_type": "code",
      "metadata": {
        "id": "8dFCT-QESBD3",
        "colab_type": "code",
        "colab": {}
      },
      "source": [
        ""
      ],
      "execution_count": 0,
      "outputs": []
    },
    {
      "cell_type": "code",
      "metadata": {
        "id": "ZB1Yym7GSBD_",
        "colab_type": "code",
        "colab": {}
      },
      "source": [
        ""
      ],
      "execution_count": 0,
      "outputs": []
    }
  ]
}